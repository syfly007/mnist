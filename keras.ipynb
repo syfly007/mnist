{
 "cells": [
  {
   "cell_type": "code",
   "execution_count": 14,
   "metadata": {},
   "outputs": [],
   "source": [
    "from keras.models import Sequential\n",
    "from keras.utils import np_utils\n",
    "from keras.layers.core import Dense, Activation, Dropout\n",
    "\n",
    "import pandas as pd\n",
    "import numpy as np\n",
    "\n",
    "# Read data\n",
    "train = pd.read_csv('input/train.csv')\n",
    "labels = train.iloc[:,0].values.astype('int32')\n",
    "X_train = (train.iloc[:,1:].values).astype('float32')\n",
    "X_test = (pd.read_csv('input/test.csv').values).astype('float32')\n"
   ]
  },
  {
   "cell_type": "code",
   "execution_count": 15,
   "metadata": {},
   "outputs": [],
   "source": [
    "# convert list of labels to binary class matrix\n",
    "y_train = np_utils.to_categorical(labels) \n",
    "\n",
    "# pre-processing: divide by max and substract mean\n",
    "scale = np.max(X_train)\n",
    "X_train /= scale\n",
    "X_test /= scale\n",
    "\n",
    "mean = np.std(X_train)\n",
    "X_train -= mean\n",
    "X_test -= mean\n",
    "\n",
    "input_dim = X_train.shape[1]\n",
    "nb_classes = y_train.shape[1]\n",
    "\n",
    "# Here's a Deep Dumb MLP (DDMLP)\n",
    "model = Sequential()\n",
    "model.add(Dense(128, input_dim=input_dim))\n",
    "model.add(Activation('relu'))\n",
    "model.add(Dropout(0.15))\n",
    "model.add(Dense(128))\n",
    "model.add(Activation('relu'))\n",
    "model.add(Dropout(0.15))\n",
    "model.add(Dense(128))\n",
    "model.add(Activation('relu'))\n",
    "model.add(Dropout(0.15))\n",
    "model.add(Dense(nb_classes))\n",
    "model.add(Activation('softmax'))\n",
    "\n",
    "# we'll use categorical xent for the loss, and RMSprop as the optimizer\n",
    "model.compile(loss='categorical_crossentropy', optimizer='rmsprop',metrics=['accuracy'])"
   ]
  },
  {
   "cell_type": "code",
   "execution_count": 16,
   "metadata": {},
   "outputs": [
    {
     "name": "stdout",
     "output_type": "stream",
     "text": [
      "Training...\n",
      "Train on 37800 samples, validate on 4200 samples\n",
      "Epoch 1/20\n",
      "11s - loss: 0.4063 - acc: 0.8748 - val_loss: 0.1797 - val_acc: 0.9483\n",
      "Epoch 2/20\n",
      "9s - loss: 0.2415 - acc: 0.9330 - val_loss: 0.2200 - val_acc: 0.9419\n",
      "Epoch 3/20\n",
      "14s - loss: 0.2440 - acc: 0.9407 - val_loss: 0.1617 - val_acc: 0.9583\n",
      "Epoch 4/20\n",
      "12s - loss: 0.2470 - acc: 0.9437 - val_loss: 0.2292 - val_acc: 0.9510\n",
      "Epoch 5/20\n",
      "10s - loss: 0.2574 - acc: 0.9456 - val_loss: 0.2304 - val_acc: 0.9548\n",
      "Epoch 6/20\n",
      "9s - loss: 0.2724 - acc: 0.9474 - val_loss: 0.1997 - val_acc: 0.9617\n",
      "Epoch 7/20\n",
      "9s - loss: 0.2836 - acc: 0.9482 - val_loss: 0.2665 - val_acc: 0.9619\n",
      "Epoch 8/20\n",
      "10s - loss: 0.2755 - acc: 0.9511 - val_loss: 0.2658 - val_acc: 0.9560\n",
      "Epoch 9/20\n",
      "9s - loss: 0.2909 - acc: 0.9497 - val_loss: 0.3229 - val_acc: 0.9586\n",
      "Epoch 10/20\n",
      "9s - loss: 0.2914 - acc: 0.9526 - val_loss: 0.4589 - val_acc: 0.9471\n",
      "Epoch 11/20\n",
      "9s - loss: 0.3056 - acc: 0.9520 - val_loss: 0.2871 - val_acc: 0.9588\n",
      "Epoch 12/20\n",
      "9s - loss: 0.3085 - acc: 0.9534 - val_loss: 0.2638 - val_acc: 0.9569\n",
      "Epoch 13/20\n",
      "9s - loss: 0.2911 - acc: 0.9536 - val_loss: 0.3923 - val_acc: 0.9540\n",
      "Epoch 14/20\n",
      "9s - loss: 0.3062 - acc: 0.9541 - val_loss: 0.2294 - val_acc: 0.9645\n",
      "Epoch 15/20\n",
      "9s - loss: 0.3288 - acc: 0.9558 - val_loss: 0.3098 - val_acc: 0.9564\n",
      "Epoch 16/20\n",
      "9s - loss: 0.3100 - acc: 0.9571 - val_loss: 0.3526 - val_acc: 0.9567\n",
      "Epoch 17/20\n",
      "9s - loss: 0.3087 - acc: 0.9565 - val_loss: 0.3506 - val_acc: 0.9581\n",
      "Epoch 18/20\n",
      "9s - loss: 0.3217 - acc: 0.9574 - val_loss: 0.2827 - val_acc: 0.9629\n",
      "Epoch 19/20\n",
      "10s - loss: 0.3291 - acc: 0.9578 - val_loss: 0.3976 - val_acc: 0.9605\n",
      "Epoch 20/20\n",
      "10s - loss: 0.3369 - acc: 0.9573 - val_loss: 0.3930 - val_acc: 0.9588\n"
     ]
    },
    {
     "data": {
      "text/plain": [
       "<keras.callbacks.History at 0x12f2f5c88>"
      ]
     },
     "execution_count": 16,
     "metadata": {},
     "output_type": "execute_result"
    }
   ],
   "source": [
    "print(\"Training...\")\n",
    "model.fit(X_train, y_train, epochs=20, batch_size=16, validation_split=0.1,  verbose=2)"
   ]
  },
  {
   "cell_type": "code",
   "execution_count": 6,
   "metadata": {},
   "outputs": [
    {
     "name": "stdout",
     "output_type": "stream",
     "text": [
      "Generating test predictions...\n"
     ]
    }
   ],
   "source": [
    "print(\"Generating test predictions...\")\n",
    "preds = model.predict_classes(X_test, verbose=0)\n",
    "\n",
    "def write_preds(preds, fname):\n",
    "    pd.DataFrame({\"ImageId\": list(range(1,len(preds)+1)), \"Label\": preds}).to_csv(fname, index=False, header=True)\n",
    "\n",
    "write_preds(preds, \"keras-mlp.csv\")"
   ]
  },
  {
   "cell_type": "code",
   "execution_count": 7,
   "metadata": {},
   "outputs": [],
   "source": [
    "test_labels = X_test.ix[:,0].values.astype('int32')"
   ]
  },
  {
   "cell_type": "code",
   "execution_count": null,
   "metadata": {},
   "outputs": [],
   "source": []
  }
 ],
 "metadata": {
  "kernelspec": {
   "display_name": "Python [conda env:tf]",
   "language": "python",
   "name": "conda-env-tf-py"
  },
  "language_info": {
   "codemirror_mode": {
    "name": "ipython",
    "version": 3
   },
   "file_extension": ".py",
   "mimetype": "text/x-python",
   "name": "python",
   "nbconvert_exporter": "python",
   "pygments_lexer": "ipython3",
   "version": "3.6.2"
  },
  "toc": {
   "colors": {
    "hover_highlight": "#DAA520",
    "running_highlight": "#FF0000",
    "selected_highlight": "#FFD700"
   },
   "moveMenuLeft": true,
   "nav_menu": {
    "height": "12px",
    "width": "252px"
   },
   "navigate_menu": true,
   "number_sections": true,
   "sideBar": true,
   "threshold": 4,
   "toc_cell": false,
   "toc_section_display": "block",
   "toc_window_display": false
  }
 },
 "nbformat": 4,
 "nbformat_minor": 2
}
